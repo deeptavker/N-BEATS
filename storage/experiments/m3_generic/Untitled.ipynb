{
 "cells": [
  {
   "cell_type": "code",
   "execution_count": 3,
   "metadata": {},
   "outputs": [],
   "source": [
    "def foo(a, b):\n",
    "    res = []\n",
    "    while a != 0:\n",
    "        res.append(a % b)\n",
    "        a /= b\n",
    "        a = int(a)\n",
    "    return res"
   ]
  },
  {
   "cell_type": "code",
   "execution_count": 5,
   "metadata": {},
   "outputs": [
    {
     "data": {
      "text/plain": [
       "[-1, -1, 0, -1]"
      ]
     },
     "execution_count": 5,
     "metadata": {},
     "output_type": "execute_result"
    }
   ],
   "source": [
    "foo(11, -2)"
   ]
  },
  {
   "cell_type": "code",
   "execution_count": 6,
   "metadata": {},
   "outputs": [],
   "source": [
    "def toNegativeBase(n, negBase): \n",
    "      \n",
    "    # If n is zero then in any base it  \n",
    "    # will be 0 only \n",
    "    if (n == 0): \n",
    "        return \"0\"\n",
    "  \n",
    "    converted = \"01\"\n",
    "    while (n != 0): \n",
    "          \n",
    "        # Get remainder by negative base,  \n",
    "        # it can be negative also \n",
    "        remainder = n % (negBase) \n",
    "        n = int(n/negBase) \n",
    "  \n",
    "        # if remainder is negative, add  \n",
    "        # abs(base) to it and add 1 to n \n",
    "        if (remainder < 0): \n",
    "            remainder += ((-1) * negBase) \n",
    "            n += 1\n",
    "  \n",
    "        # convert remainder to string add \n",
    "        # into the result \n",
    "        converted = str(remainder) + converted \n",
    "          \n",
    "    return converted "
   ]
  },
  {
   "cell_type": "code",
   "execution_count": 9,
   "metadata": {},
   "outputs": [
    {
     "data": {
      "text/plain": [
       "'101101'"
      ]
     },
     "execution_count": 9,
     "metadata": {},
     "output_type": "execute_result"
    }
   ],
   "source": [
    "toNegativeBase(-11, 2)"
   ]
  },
  {
   "cell_type": "code",
   "execution_count": 13,
   "metadata": {},
   "outputs": [
    {
     "ename": "KeyboardInterrupt",
     "evalue": "",
     "output_type": "error",
     "traceback": [
      "\u001b[0;31m---------------------------------------------------------------------------\u001b[0m",
      "\u001b[0;31mKeyboardInterrupt\u001b[0m                         Traceback (most recent call last)",
      "\u001b[0;32m<ipython-input-13-8a656c148cda>\u001b[0m in \u001b[0;36m<module>\u001b[0;34m\u001b[0m\n\u001b[1;32m     32\u001b[0m     \u001b[0mnegBase\u001b[0m \u001b[0;34m=\u001b[0m \u001b[0;34m-\u001b[0m\u001b[0;36m2\u001b[0m\u001b[0;34m\u001b[0m\u001b[0;34m\u001b[0m\u001b[0m\n\u001b[1;32m     33\u001b[0m \u001b[0;34m\u001b[0m\u001b[0m\n\u001b[0;32m---> 34\u001b[0;31m     \u001b[0mprint\u001b[0m\u001b[0;34m(\u001b[0m\u001b[0mtoNegativeBase\u001b[0m\u001b[0;34m(\u001b[0m\u001b[0mn\u001b[0m\u001b[0;34m,\u001b[0m \u001b[0mnegBase\u001b[0m\u001b[0;34m)\u001b[0m\u001b[0;34m)\u001b[0m\u001b[0;34m\u001b[0m\u001b[0;34m\u001b[0m\u001b[0m\n\u001b[0m\u001b[1;32m     35\u001b[0m \u001b[0;34m\u001b[0m\u001b[0m\n\u001b[1;32m     36\u001b[0m \u001b[0;31m# This code is contributed by\u001b[0m\u001b[0;34m\u001b[0m\u001b[0;34m\u001b[0m\u001b[0;34m\u001b[0m\u001b[0m\n",
      "\u001b[0;32m<ipython-input-13-8a656c148cda>\u001b[0m in \u001b[0;36mtoNegativeBase\u001b[0;34m(n, negBase)\u001b[0m\n\u001b[1;32m     23\u001b[0m         \u001b[0;31m# convert remainder to string add\u001b[0m\u001b[0;34m\u001b[0m\u001b[0;34m\u001b[0m\u001b[0;34m\u001b[0m\u001b[0m\n\u001b[1;32m     24\u001b[0m         \u001b[0;31m# into the result\u001b[0m\u001b[0;34m\u001b[0m\u001b[0;34m\u001b[0m\u001b[0;34m\u001b[0m\u001b[0m\n\u001b[0;32m---> 25\u001b[0;31m         \u001b[0mconverted\u001b[0m \u001b[0;34m=\u001b[0m \u001b[0mstr\u001b[0m\u001b[0;34m(\u001b[0m\u001b[0mremainder\u001b[0m\u001b[0;34m)\u001b[0m \u001b[0;34m+\u001b[0m \u001b[0mconverted\u001b[0m\u001b[0;34m\u001b[0m\u001b[0;34m\u001b[0m\u001b[0m\n\u001b[0m\u001b[1;32m     26\u001b[0m \u001b[0;34m\u001b[0m\u001b[0m\n\u001b[1;32m     27\u001b[0m     \u001b[0;32mreturn\u001b[0m \u001b[0mconverted\u001b[0m\u001b[0;34m\u001b[0m\u001b[0;34m\u001b[0m\u001b[0m\n",
      "\u001b[0;31mKeyboardInterrupt\u001b[0m: "
     ]
    }
   ],
   "source": [
    "# Method to convert n to base negBase \n",
    "def toNegativeBase(n, negBase): \n",
    "      \n",
    "    # If n is zero then in any base it  \n",
    "    # will be 0 only \n",
    "    if (n == 0): \n",
    "        return \"0\"\n",
    "  \n",
    "    converted = \"01\"\n",
    "    while (n != 0): \n",
    "          \n",
    "        # Get remainder by negative base,  \n",
    "        # it can be negative also \n",
    "        remainder = n % (negBase) \n",
    "        n = int(n/negBase) \n",
    "  \n",
    "        # if remainder is negative, add  \n",
    "        # abs(base) to it and add 1 to n \n",
    "        if (remainder < 0): \n",
    "            remainder += ((-1) * negBase) \n",
    "            n += 1\n",
    "  \n",
    "        # convert remainder to string add \n",
    "        # into the result \n",
    "        converted = str(remainder) + converted \n",
    "          \n",
    "    return converted \n",
    "  \n",
    "# Driver Code \n",
    "if __name__ == '__main__': \n",
    "    n = 18\n",
    "    negBase = -2\n",
    "  \n",
    "    print(toNegativeBase(n, negBase)) \n",
    "  \n",
    "# This code is contributed by \n",
    "# Surendra_Gangwar "
   ]
  },
  {
   "cell_type": "code",
   "execution_count": 14,
   "metadata": {},
   "outputs": [],
   "source": [
    "def neg2dec(arr):\n",
    "    n = 0\n",
    "    for i, num in enumerate(arr[::-1]):\n",
    "        n+= ((-2)**i)*num\n",
    "    return n\n",
    "\n",
    "def dec2neg(num):\n",
    "    if num == 0:\n",
    "        digits = ['0']\n",
    "    else:\n",
    "        digits = []\n",
    "        while num != 0:\n",
    "            num, remainder = divmod(num, -2)\n",
    "            if remainder < 0:\n",
    "                num, remainder = num + 1, remainder + 2\n",
    "            digits.append(str(remainder))\n",
    "    return ''.join(digits[::-1])"
   ]
  },
  {
   "cell_type": "code",
   "execution_count": 17,
   "metadata": {},
   "outputs": [],
   "source": [
    "a = dec2neg(-11)"
   ]
  },
  {
   "cell_type": "code",
   "execution_count": 19,
   "metadata": {},
   "outputs": [],
   "source": [
    "b = list(map(int, a))"
   ]
  },
  {
   "cell_type": "code",
   "execution_count": 21,
   "metadata": {},
   "outputs": [
    {
     "data": {
      "text/plain": [
       "-11"
      ]
     },
     "execution_count": 21,
     "metadata": {},
     "output_type": "execute_result"
    }
   ],
   "source": [
    "sum([v * (-2)**i for i, v in enumerate(b[::-1])])"
   ]
  },
  {
   "cell_type": "code",
   "execution_count": null,
   "metadata": {},
   "outputs": [],
   "source": []
  }
 ],
 "metadata": {
  "kernelspec": {
   "display_name": "Python 3",
   "language": "python",
   "name": "python3"
  },
  "language_info": {
   "codemirror_mode": {
    "name": "ipython",
    "version": 3
   },
   "file_extension": ".py",
   "mimetype": "text/x-python",
   "name": "python",
   "nbconvert_exporter": "python",
   "pygments_lexer": "ipython3",
   "version": "3.9.0"
  }
 },
 "nbformat": 4,
 "nbformat_minor": 4
}
